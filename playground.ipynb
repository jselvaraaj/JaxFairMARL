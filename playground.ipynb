{
 "cells": [
  {
   "cell_type": "code",
   "id": "initial_id",
   "metadata": {
    "collapsed": true,
    "ExecuteTime": {
     "end_time": "2025-01-30T22:31:58.763211Z",
     "start_time": "2025-01-30T22:31:57.992844Z"
    }
   },
   "source": [
    "import jax.numpy as jnp\n",
    "from diffrax import diffeqsolve, ODETerm, Dopri5\n",
    "\n",
    "\n",
    "def f(t, y, args):\n",
    "    return -y\n",
    "\n",
    "\n",
    "term = ODETerm(f)\n",
    "solver = Dopri5()\n",
    "y0 = jnp.array([2., 3.])\n",
    "solution = diffeqsolve(term, solver, t0=0, t1=1, dt0=0.1, y0=y0)"
   ],
   "outputs": [],
   "execution_count": 1
  },
  {
   "metadata": {
    "ExecuteTime": {
     "end_time": "2025-01-30T22:36:27.207819Z",
     "start_time": "2025-01-30T22:36:27.198171Z"
    }
   },
   "cell_type": "code",
   "source": "solution.t0",
   "id": "cbc4d5ca9e6d1d49",
   "outputs": [
    {
     "data": {
      "text/plain": [
       "Array(0., dtype=float32)"
      ]
     },
     "execution_count": 3,
     "metadata": {},
     "output_type": "execute_result"
    }
   ],
   "execution_count": 3
  },
  {
   "metadata": {
    "ExecuteTime": {
     "end_time": "2025-01-30T22:43:55.139652Z",
     "start_time": "2025-01-30T22:43:55.136970Z"
    }
   },
   "cell_type": "code",
   "source": "solution.ys.shape",
   "id": "c9214c1b48cc1db3",
   "outputs": [
    {
     "data": {
      "text/plain": [
       "(1, 2)"
      ]
     },
     "execution_count": 11,
     "metadata": {},
     "output_type": "execute_result"
    }
   ],
   "execution_count": 11
  },
  {
   "metadata": {
    "ExecuteTime": {
     "end_time": "2025-01-31T00:24:51.284988Z",
     "start_time": "2025-01-31T00:24:50.024123Z"
    }
   },
   "cell_type": "code",
   "source": [
    "import flax.linen as nn\n",
    "from model.actor_critic_rnn import NeuralODE\n",
    "import jax\n",
    "import jax.numpy as jnp\n",
    "\n",
    "rng = jax.random.PRNGKey(0)\n",
    "coords = jnp.ones((1, 4))\n",
    "\n",
    "model = NeuralODE(\n",
    "    encoder=nn.Dense(10),\n",
    "    derivative_net=nn.Dense(10),\n",
    "    decoder=nn.Dense(4))\n",
    "params = jax.jit(model.init)(rng, coords)"
   ],
   "id": "3f43617ef7a549e6",
   "outputs": [],
   "execution_count": 1
  },
  {
   "metadata": {
    "ExecuteTime": {
     "end_time": "2025-01-31T00:24:51.830767Z",
     "start_time": "2025-01-31T00:24:51.289723Z"
    }
   },
   "cell_type": "code",
   "source": [
    "@jax.jit\n",
    "def compute_loss(params, coords, true_coords):\n",
    "    preds = model.apply(params, coords)\n",
    "    return jnp.abs(preds - true_coords).sum()\n",
    "\n",
    "\n",
    "grads = jax.grad(compute_loss)(params, coords, jnp.zeros_like(coords))"
   ],
   "id": "3e927e1d685a2fe0",
   "outputs": [],
   "execution_count": 2
  },
  {
   "metadata": {},
   "cell_type": "code",
   "outputs": [],
   "execution_count": null,
   "source": "",
   "id": "f4c78c7dc59438ff"
  }
 ],
 "metadata": {
  "kernelspec": {
   "display_name": "Python 3",
   "language": "python",
   "name": "python3"
  },
  "language_info": {
   "codemirror_mode": {
    "name": "ipython",
    "version": 2
   },
   "file_extension": ".py",
   "mimetype": "text/x-python",
   "name": "python",
   "nbconvert_exporter": "python",
   "pygments_lexer": "ipython2",
   "version": "2.7.6"
  }
 },
 "nbformat": 4,
 "nbformat_minor": 5
}
