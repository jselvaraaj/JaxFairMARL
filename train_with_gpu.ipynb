{
 "cells": [
  {
   "cell_type": "code",
   "metadata": {
    "id": "AXT-RTm1ZlQL",
    "colab": {
     "base_uri": "https://localhost:8080/"
    },
    "outputId": "877929c1-2389-46e7-cffa-45ac52113105"
   },
   "source": [
    "!git clone https://github.com/jselvaraaj/JaxInforMARL.git"
   ],
   "outputs": [],
   "execution_count": null
  },
  {
   "cell_type": "code",
   "metadata": {
    "colab": {
     "base_uri": "https://localhost:8080/"
    },
    "id": "9n7WU18Tgpat",
    "outputId": "0c13bc97-0510-4b90-91d2-e04f257903e8"
   },
   "source": [
    "%load_ext autoreload\n",
    "%autoreload 2\n",
    "\n",
    "%cd JaxInforMARL\n",
    "\n",
    "import sys\n",
    "sys.path.append(\"/content/JaxInforMARL/\")"
   ],
   "outputs": [],
   "execution_count": null
  },
  {
   "cell_type": "code",
   "metadata": {
    "id": "my92RvJ6ZjCY"
   },
   "source": [
    "!pip install -r requirements_jax_cuda.txt"
   ],
   "outputs": [],
   "execution_count": null
  },
  {
   "cell_type": "code",
   "metadata": {
    "id": "2tzjAv7mgILf",
    "colab": {
     "base_uri": "https://localhost:8080/"
    },
    "outputId": "67e67618-80da-48de-bafc-538c4554de41"
   },
   "source": [
    "!pip install -r requirements.txt"
   ],
   "outputs": [],
   "execution_count": null
  },
  {
   "cell_type": "code",
   "metadata": {
    "id": "KRrcsijYZ1r8",
    "colab": {
     "base_uri": "https://localhost:8080/"
    },
    "outputId": "f27c47b3-fd57-4647-d5c1-661e66bfe65a"
   },
   "source": [
    "!wandb login"
   ],
   "outputs": [],
   "execution_count": null
  },
  {
   "cell_type": "markdown",
   "source": [
    "Now edit the config in JaxInforMARL/config/mappo_config.py\n",
    "\n",
    "You have you restart the runtime and run cell 2 (for changing `pwd`), before running the next cell for changes in the config values to be reflected since the config object is a flax data class which is immutable and doesn't seem to work with `%load_ext autoreload %autoreload 2`"
   ],
   "metadata": {
    "id": "9_H8Kw4YmEl5"
   }
  },
  {
   "cell_type": "code",
   "metadata": {
    "id": "p_8f8YlyaJl_"
   },
   "source": [
    "%run ./algorithm/marl_ppo.py"
   ],
   "outputs": [],
   "execution_count": null
  },
  {
   "cell_type": "code",
   "source": [],
   "metadata": {
    "id": "-1NUJ5zga4Wr"
   },
   "outputs": [],
   "execution_count": null
  }
 ],
 "metadata": {
  "accelerator": "GPU",
  "colab": {
   "gpuType": "T4",
   "provenance": []
  },
  "kernelspec": {
   "display_name": "Python 3",
   "name": "python3"
  },
  "language_info": {
   "name": "python"
  }
 },
 "nbformat": 4,
 "nbformat_minor": 0
}
