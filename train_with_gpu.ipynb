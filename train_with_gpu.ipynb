{
  "cells": [
    {
      "cell_type": "code",
      "execution_count": null,
      "metadata": {
        "id": "AXT-RTm1ZlQL"
      },
      "outputs": [],
      "source": [
        "!git clone https://github.com/jselvaraaj/JaxFairMARL.git"
      ]
    },
    {
      "cell_type": "code",
      "execution_count": null,
      "metadata": {
        "id": "9n7WU18Tgpat"
      },
      "outputs": [],
      "source": [
        "%load_ext autoreload\n",
        "%autoreload 2\n",
        "\n",
        "%cd JaxFairMARL\n",
        "\n",
        "import sys\n",
        "sys.path.append(\"/content/JaxFairMARL/\")"
      ]
    },
    {
      "cell_type": "code",
      "source": [
        "!pip install -U \"jax[cuda12]\" orbax-checkpoint orbax-export"
      ],
      "metadata": {
        "id": "ztjScTDIr64x"
      },
      "execution_count": null,
      "outputs": []
    },
    {
      "cell_type": "code",
      "source": [
        "!pip install -r requirements.txt"
      ],
      "metadata": {
        "id": "QCJRqO4hE5sy"
      },
      "execution_count": null,
      "outputs": []
    },
    {
      "cell_type": "code",
      "execution_count": null,
      "metadata": {
        "id": "KRrcsijYZ1r8"
      },
      "outputs": [],
      "source": [
        "!wandb login"
      ]
    },
    {
      "cell_type": "markdown",
      "metadata": {
        "id": "9_H8Kw4YmEl5"
      },
      "source": [
        "Now edit the config in JaxInforMARL/config/mappo_config.py\n",
        "\n",
        "You have you restart the runtime before running the next cell for changes in the config values to be reflected since the config object is a flax data class which is immutable and doesn't seem to work with `%load_ext autoreload %autoreload 2`"
      ]
    },
    {
      "cell_type": "code",
      "execution_count": null,
      "metadata": {
        "id": "p_8f8YlyaJl_"
      },
      "outputs": [],
      "source": [
        "%run ./algorithm/marl_ppo.py"
      ]
    },
    {
      "cell_type": "code",
      "execution_count": null,
      "metadata": {
        "id": "uJf0CCpfowg4"
      },
      "outputs": [],
      "source": [
        "%cd .."
      ]
    },
    {
      "cell_type": "code",
      "execution_count": null,
      "metadata": {
        "id": "9_OL80Bmpuz1"
      },
      "outputs": [],
      "source": [
        "!rm -rf JaxFairMARL"
      ]
    },
    {
      "cell_type": "code",
      "execution_count": null,
      "metadata": {
        "id": "XKD62zf9o1LG"
      },
      "outputs": [],
      "source": [
        "!ls"
      ]
    },
    {
      "cell_type": "code",
      "source": [],
      "metadata": {
        "id": "jC2X04apLrO7"
      },
      "execution_count": null,
      "outputs": []
    }
  ],
  "metadata": {
    "accelerator": "GPU",
    "colab": {
      "gpuType": "T4",
      "provenance": []
    },
    "kernelspec": {
      "display_name": "Python 3",
      "name": "python3"
    },
    "language_info": {
      "name": "python"
    }
  },
  "nbformat": 4,
  "nbformat_minor": 0
}